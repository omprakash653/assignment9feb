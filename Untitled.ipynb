{
 "cells": [
  {
   "cell_type": "markdown",
   "id": "b0448406",
   "metadata": {},
   "source": [
    "# Ans1"
   ]
  },
  {
   "cell_type": "code",
   "execution_count": 3,
   "id": "aa515156",
   "metadata": {},
   "outputs": [
    {
     "data": {
      "text/plain": [
       "' pulser maximum speed is 140 km/h and average is 60'"
      ]
     },
     "execution_count": 3,
     "metadata": {},
     "output_type": "execute_result"
    }
   ],
   "source": [
    "class vehical:\n",
    "\n",
    "    def __init__(self, name_of_vehical, max_speed, average_of_vehical):\n",
    "\n",
    "        self.name_of_vehical = name_of_vehical\n",
    "\n",
    "        self.max_speed = max_speed\n",
    "\n",
    "        self.average_of_vehical = average_of_vehical\n",
    "    def call(self):\n",
    "         return f\" {self.name_of_vehical} maximum speed is {self.max_speed} and average is {self.average_of_vehical}\"\n",
    " \n",
    "\n",
    "a=vehical(\"pulser\",\"140 km/h\",60)\n",
    "a.call()"
   ]
  },
  {
   "cell_type": "markdown",
   "id": "916fde3b",
   "metadata": {},
   "source": [
    "# Ans2"
   ]
  },
  {
   "cell_type": "code",
   "execution_count": 53,
   "id": "87388829",
   "metadata": {},
   "outputs": [
    {
     "name": "stdout",
     "output_type": "stream",
     "text": [
      "The nama of vehical is alto capacity is 5\n"
     ]
    }
   ],
   "source": [
    "class vehical:\n",
    "    def __init__(self,name_of_vehical,capacity):\n",
    "        self.name_of_vehical=name_of_vehical\n",
    "        self.capacity=capacity\n",
    "    def getdetail(self):\n",
    "        print(f\"The nama of vehical is {self.name_of_vehical} capacity is {self.capacity}\")\n",
    "    \n",
    "class car(vehical):\n",
    "    pass\n",
    "\n",
    "b=car('alto',5)\n",
    "b.getdetail()"
   ]
  },
  {
   "cell_type": "markdown",
   "id": "992345ac",
   "metadata": {},
   "source": [
    "# Ans3"
   ]
  },
  {
   "cell_type": "code",
   "execution_count": 54,
   "id": "78c0faca",
   "metadata": {},
   "outputs": [],
   "source": [
    "# The property of acquiring all the properties and behaviors \n",
    "# of the parent object by an object is termed as Python inheritance. \n",
    "# Python facilitates inheritance of a derived class from more than one base class \n",
    "# which is also called as multiple inheritance in Python."
   ]
  },
  {
   "cell_type": "code",
   "execution_count": 56,
   "id": "2da5ad05",
   "metadata": {},
   "outputs": [
    {
     "name": "stdout",
     "output_type": "stream",
     "text": [
      "Employee Name: Khush\n",
      "Salary: 10000\n",
      "Designation: Test Engineer\n"
     ]
    }
   ],
   "source": [
    "class Employees(): \n",
    " \n",
    "    def Name(self): \n",
    "        print(\"Employee Name: Khush\")\n",
    " \n",
    "class salary():\n",
    "    def Salary(self):\n",
    "        print(\"Salary: 10000\")\n",
    " \n",
    "class Designation(Employees, salary):\n",
    "    def desig(self):\n",
    "        print(\"Designation: Test Engineer\")\n",
    " \n",
    "call = Designation()\n",
    "call.Name()\n",
    "call.Salary()\n",
    "call.desig()"
   ]
  },
  {
   "cell_type": "markdown",
   "id": "f30ba92c",
   "metadata": {},
   "source": [
    "# Ans4"
   ]
  },
  {
   "cell_type": "code",
   "execution_count": 57,
   "id": "50488fe1",
   "metadata": {},
   "outputs": [],
   "source": [
    "# We use getters & setters to add validation logic around getting and setting a value.\n",
    "# To avoid direct access of a class field i.e. private variables cannot be accessed directly or modified by external user."
   ]
  },
  {
   "cell_type": "code",
   "execution_count": 58,
   "id": "3e4c5f68",
   "metadata": {},
   "outputs": [
    {
     "name": "stdout",
     "output_type": "stream",
     "text": [
      "21\n",
      "21\n"
     ]
    }
   ],
   "source": [
    "\n",
    "class Geek:\n",
    "\tdef __init__(self, age = 0):\n",
    "\t\tself._age = age\n",
    "\t\n",
    "\t# getter method\n",
    "\tdef get_age(self):\n",
    "\t\treturn self._age\n",
    "\t\n",
    "\t# setter method\n",
    "\tdef set_age(self, x):\n",
    "\t\tself._age = x\n",
    "\n",
    "raj = Geek()\n",
    "\n",
    "\n",
    "raj.set_age(21)\n",
    "\n",
    "print(raj.get_age())\n",
    "\n",
    "print(raj._age)\n"
   ]
  },
  {
   "cell_type": "markdown",
   "id": "2d33c9a6",
   "metadata": {},
   "source": [
    "# Ans5"
   ]
  },
  {
   "cell_type": "code",
   "execution_count": 59,
   "id": "076d5171",
   "metadata": {},
   "outputs": [],
   "source": [
    "# Method overriding is an ability of any object-oriented programming \n",
    "# language that allows a subclass or child class to provide a specific\n",
    "# implementation of a method that is already provided by one of its \n",
    "# super-classes or parent classes. When a method in a subclass has \n",
    "# the same name, same parameters or signature and same return type(or sub-type) \n",
    "# as a method in its super-class, then the method in the subclass is said to override the method in the super-class.\n"
   ]
  },
  {
   "cell_type": "code",
   "execution_count": 60,
   "id": "71aa346e",
   "metadata": {},
   "outputs": [
    {
     "name": "stdout",
     "output_type": "stream",
     "text": [
      "Inside Parent\n",
      "Inside Child\n"
     ]
    }
   ],
   "source": [
    "# Pytho\n",
    "class Parent():\n",
    "\t\n",
    "\n",
    "\tdef __init__(self):\n",
    "\t\tself.value = \"Inside Parent\"\n",
    "\t\t\n",
    "\t# Parent's show method\n",
    "\tdef show(self):\n",
    "\t\tprint(self.value)\n",
    "\t\t\n",
    "# Defining child class\n",
    "class Child(Parent):\n",
    "\t\n",
    "\t# Constructor\n",
    "\tdef __init__(self):\n",
    "\t\tself.value = \"Inside Child\"\n",
    "\t\t\n",
    "\t# Child's show method\n",
    "\tdef show(self):\n",
    "\t\tprint(self.value)\n",
    "\t\t\n",
    "\t\t\n",
    "# Driver's code\n",
    "obj1 = Parent()\n",
    "obj2 = Child()\n",
    "\n",
    "obj1.show()\n",
    "obj2.show()\n"
   ]
  },
  {
   "cell_type": "code",
   "execution_count": null,
   "id": "07f6f6c4",
   "metadata": {},
   "outputs": [],
   "source": []
  }
 ],
 "metadata": {
  "kernelspec": {
   "display_name": "Python 3 (ipykernel)",
   "language": "python",
   "name": "python3"
  },
  "language_info": {
   "codemirror_mode": {
    "name": "ipython",
    "version": 3
   },
   "file_extension": ".py",
   "mimetype": "text/x-python",
   "name": "python",
   "nbconvert_exporter": "python",
   "pygments_lexer": "ipython3",
   "version": "3.11.1"
  }
 },
 "nbformat": 4,
 "nbformat_minor": 5
}
